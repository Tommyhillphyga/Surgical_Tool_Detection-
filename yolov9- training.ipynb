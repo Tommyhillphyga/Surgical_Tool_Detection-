{
 "cells": [
  {
   "cell_type": "markdown",
   "metadata": {
    "id": "WceZ3GgmOv8z"
   },
   "source": [
    "# **Training YOLOv9 on Custom Dataset**\n"
   ]
  },
  {
   "cell_type": "code",
   "execution_count": null,
   "metadata": {
    "colab": {
     "base_uri": "https://localhost:8080/"
    },
    "executionInfo": {
     "elapsed": 48997,
     "status": "ok",
     "timestamp": 1711311316032,
     "user": {
      "displayName": "tom sam",
      "userId": "13557021229720384429"
     },
     "user_tz": -60
    },
    "id": "kYFscM4Zl9ba",
    "outputId": "04412cd6-6217-46cb-a259-0932f5ad86eb"
   },
   "outputs": [
    {
     "name": "stdout",
     "output_type": "stream",
     "text": [
      "Mounted at /content/mydrive\n"
     ]
    }
   ],
   "source": [
    "from google.colab import drive\n",
    "drive.mount(\"/content/mydrive\")"
   ]
  },
  {
   "cell_type": "code",
   "execution_count": null,
   "metadata": {
    "colab": {
     "base_uri": "https://localhost:8080/"
    },
    "executionInfo": {
     "elapsed": 418,
     "status": "ok",
     "timestamp": 1711311436127,
     "user": {
      "displayName": "tom sam",
      "userId": "13557021229720384429"
     },
     "user_tz": -60
    },
    "id": "olV_Feb5mBte",
    "outputId": "0802c9f3-0f9c-4de8-a109-a7ac34f9664c"
   },
   "outputs": [
    {
     "name": "stdout",
     "output_type": "stream",
     "text": [
      "/content/mydrive/MyDrive/project\n",
      "/content/mydrive/MyDrive/project\n"
     ]
    }
   ],
   "source": [
    "import os\n",
    "%cd /content/mydrive/MyDrive/project\n",
    "HOME = os.getcwd()\n",
    "print(HOME)"
   ]
  },
  {
   "cell_type": "code",
   "execution_count": null,
   "metadata": {
    "id": "eSslRmAAmHeO"
   },
   "outputs": [],
   "source": [
    "!git clone https://github.com/SkalskiP/yolov9.git\n",
    "%cd yolov9\n",
    "!pip install -r requirements.txt -q"
   ]
  },
  {
   "cell_type": "code",
   "execution_count": null,
   "metadata": {
    "colab": {
     "base_uri": "https://localhost:8080/"
    },
    "executionInfo": {
     "elapsed": 433,
     "status": "ok",
     "timestamp": 1710377359980,
     "user": {
      "displayName": "tom sam",
      "userId": "13557021229720384429"
     },
     "user_tz": -60
    },
    "id": "81-Nd-CNmO9I",
    "outputId": "75df939f-042b-4c36-fe1c-ccca96717317"
   },
   "outputs": [
    {
     "name": "stdout",
     "output_type": "stream",
     "text": [
      "/content/mydrive/MyDrive/project/yolov9/datasets\n"
     ]
    }
   ],
   "source": [
    "!mkdir {HOME}/yolov9/datasets\n",
    "%cd {HOME}/yolov9/datasets"
   ]
  },
  {
   "cell_type": "code",
   "execution_count": null,
   "metadata": {
    "id": "aaIAdFwRmTpE"
   },
   "outputs": [],
   "source": [
    "!wget -P {HOME}/yolov9/weights -q https://github.com/WongKinYiu/yolov9/releases/download/v0.1/yolov9-c.pt\n",
    "!wget -P {HOME}/yolov9/weights -q https://github.com/WongKinYiu/yolov9/releases/download/v0.1/yolov9-e.pt\n",
    "!wget -P {HOME}/yolov9/weights -q https://github.com/WongKinYiu/yolov9/releases/download/v0.1/gelan-c.pt\n",
    "!wget -P {HOME}/yolov9/weights -q https://github.com/WongKinYiu/yolov9/releases/download/v0.1/gelan-e.pt"
   ]
  },
  {
   "cell_type": "code",
   "execution_count": null,
   "metadata": {
    "id": "U2VAVnPNmdX1"
   },
   "outputs": [],
   "source": [
    "!pip install roboflow\n",
    "\n",
    "\n",
    "from roboflow import Roboflow\n",
    "rf = Roboflow(api_key=\"gOj****************\")\n",
    "project = rf.workspace(\"nust-n4uwu\").project(\"yolo-x6unl\")\n",
    "version = project.version(1)\n",
    "dataset = version.download(\"yolov9\")"
   ]
  },
  {
   "cell_type": "code",
   "execution_count": null,
   "metadata": {
    "id": "7rED7a5imfZ7"
   },
   "outputs": [],
   "source": [
    "!python train_dual.py \\\n",
    "--batch 8 --epochs 50 --img 640 --device 0  \\\n",
    "--data datasets/yolo-1/data.yaml \\\n",
    "--weights runs/train/exp3/weights/best.pt \\\n",
    "--cfg models/detect/yolov9_custom.yaml \\\n",
    "--hyp hyp.scratch-high.yaml \\\n",
    "--resume"
   ]
  }
 ],
 "metadata": {
  "accelerator": "GPU",
  "colab": {
   "authorship_tag": "ABX9TyMcLckOpXhd5gaSQSff3uyU",
   "gpuType": "T4",
   "provenance": []
  },
  "kernelspec": {
   "display_name": "Python 3",
   "name": "python3"
  },
  "language_info": {
   "name": "python"
  }
 },
 "nbformat": 4,
 "nbformat_minor": 0
}
